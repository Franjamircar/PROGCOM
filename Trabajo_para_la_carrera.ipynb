{
  "nbformat": 4,
  "nbformat_minor": 0,
  "metadata": {
    "colab": {
      "provenance": []
    },
    "kernelspec": {
      "name": "python3",
      "display_name": "Python 3"
    },
    "language_info": {
      "name": "python"
    }
  },
  "cells": [
    {
      "cell_type": "code",
      "execution_count": null,
      "metadata": {
        "id": "buGkG9tuFnZs"
      },
      "outputs": [],
      "source": [
        "temp=[\"kelvin\",\"celsius\",\"farenheit\"]\n",
        "print(\"Este es un convertidor de unidades, Celsius, Farenheit y Kelvin\")\n",
        "x=input(\"Escriba la unidad que que tiene\").lower()\n",
        "y=int(input(\"¿En qué cantidad?\"))\n",
        "z=input(\"¿Cuál es la temperatura?\")\n",
        "\n",
        "if x in temp:    \n",
        "   if x==\"kelvin\" and z==\"celsius\":\n",
        "     R=(y-273.15)\n",
        "   elif x==\"kelvin\" and z==\"farenheit\":\n",
        "     R=((y*(1.8))+-459.67)\n",
        "   elif x==\"celsius\" and z==\"farenheit\":\n",
        "     R=((y)*(9/5))+32\n",
        "   elif x==\"celsius\" and z==\"kelvin\":\n",
        "     R=y+273.15\n",
        "   elif x==\"farenheit\" and z==\"celsius\":\n",
        "     R=(y+-32)*(0.555)\n",
        "   elif x==\"farenheit\" and z==\"kelvin\":\n",
        "     R=((y-32)*(5/9)+273.15)\n",
        "else:\n",
        "  print(\"La unidad no esta en las opciones\")\n",
        "print(R)\n"
      ]
    }
  ]
}
