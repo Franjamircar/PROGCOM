{
  "nbformat": 4,
  "nbformat_minor": 0,
  "metadata": {
    "colab": {
      "provenance": []
    },
    "kernelspec": {
      "name": "python3",
      "display_name": "Python 3"
    },
    "language_info": {
      "name": "python"
    }
  },
  "cells": [
    {
      "cell_type": "markdown",
      "source": [
        "Error de syntaxis"
      ],
      "metadata": {
        "id": "DxEUVHF2e-fp"
      }
    },
    {
      "cell_type": "code",
      "execution_count": 1,
      "metadata": {
        "colab": {
          "base_uri": "https://localhost:8080/",
          "height": 130
        },
        "id": "005S766ZeEuw",
        "outputId": "f0ad760e-b535-4de1-f971-5e42c8edee51"
      },
      "outputs": [
        {
          "output_type": "error",
          "ename": "SyntaxError",
          "evalue": "ignored",
          "traceback": [
            "\u001b[0;36m  File \u001b[0;32m\"<ipython-input-1-4a1923af9199>\"\u001b[0;36m, line \u001b[0;32m1\u001b[0m\n\u001b[0;31m    while True print('Hello world')\u001b[0m\n\u001b[0m                   ^\u001b[0m\n\u001b[0;31mSyntaxError\u001b[0m\u001b[0;31m:\u001b[0m invalid syntax\n"
          ]
        }
      ],
      "source": [
        ">>> while True print('Hello world')\n",
        "  File \"<stdin>\", line 1\n",
        "    while True print('Hello world')"
      ]
    },
    {
      "cell_type": "markdown",
      "source": [
        "Error de sintaxis, este es provocado porque hace falta :*italicized text* despues del print"
      ],
      "metadata": {
        "id": "RQH6DcEfeReS"
      }
    },
    {
      "cell_type": "markdown",
      "source": [
        "Erro de excepciones"
      ],
      "metadata": {
        "id": "CVgDn6ZzfYya"
      }
    },
    {
      "cell_type": "code",
      "source": [
        "'2' + 2"
      ],
      "metadata": {
        "colab": {
          "base_uri": "https://localhost:8080/",
          "height": 165
        },
        "id": "EYps0yWVfCQh",
        "outputId": "f34c520b-2da4-4c4b-8427-c1ad7f83dbe0"
      },
      "execution_count": 4,
      "outputs": [
        {
          "output_type": "error",
          "ename": "TypeError",
          "evalue": "ignored",
          "traceback": [
            "\u001b[0;31m---------------------------------------------------------------------------\u001b[0m",
            "\u001b[0;31mTypeError\u001b[0m                                 Traceback (most recent call last)",
            "\u001b[0;32m<ipython-input-4-d2b23a1db757>\u001b[0m in \u001b[0;36m<module>\u001b[0;34m\u001b[0m\n\u001b[0;32m----> 1\u001b[0;31m \u001b[0;34m'2'\u001b[0m \u001b[0;34m+\u001b[0m \u001b[0;36m2\u001b[0m\u001b[0;34m\u001b[0m\u001b[0;34m\u001b[0m\u001b[0m\n\u001b[0m",
            "\u001b[0;31mTypeError\u001b[0m: can only concatenate str (not \"int\") to str"
          ]
        }
      ]
    },
    {
      "cell_type": "markdown",
      "source": [
        "Los errores detectados durante la ejecución se llaman excepciones, y no son incondicionalmente fatales"
      ],
      "metadata": {
        "id": "GQBAy_KVfYCx"
      }
    },
    {
      "cell_type": "code",
      "source": [
        "print( 0x 500)"
      ],
      "metadata": {
        "colab": {
          "base_uri": "https://localhost:8080/",
          "height": 130
        },
        "id": "aZUnKTpFgRBA",
        "outputId": "e0077582-b2ef-42e8-a28f-b14405eb90aa"
      },
      "execution_count": 7,
      "outputs": [
        {
          "output_type": "error",
          "ename": "SyntaxError",
          "evalue": "ignored",
          "traceback": [
            "\u001b[0;36m  File \u001b[0;32m\"<ipython-input-7-5348ac4aae03>\"\u001b[0;36m, line \u001b[0;32m1\u001b[0m\n\u001b[0;31m    print( 0x 500)\u001b[0m\n\u001b[0m            ^\u001b[0m\n\u001b[0;31mSyntaxError\u001b[0m\u001b[0;31m:\u001b[0m invalid token\n"
          ]
        }
      ]
    },
    {
      "cell_type": "markdown",
      "source": [
        "No se puede usar el 0 como prefijo "
      ],
      "metadata": {
        "id": "X34q32aPlKqt"
      }
    },
    {
      "cell_type": "code",
      "source": [
        "mir0=[]\n",
        "car2=[]\n",
        "n1=int(input(\"Numero\"))\n",
        "for i in range(0,n1)=\n",
        "  print(\"cayó la noche\")"
      ],
      "metadata": {
        "colab": {
          "base_uri": "https://localhost:8080/",
          "height": 130
        },
        "id": "m_fSHk3klQ9C",
        "outputId": "28d99b74-3109-4843-c923-0f7dd7416c61"
      },
      "execution_count": 10,
      "outputs": [
        {
          "output_type": "error",
          "ename": "SyntaxError",
          "evalue": "ignored",
          "traceback": [
            "\u001b[0;36m  File \u001b[0;32m\"<ipython-input-10-6e9ab89b54c8>\"\u001b[0;36m, line \u001b[0;32m4\u001b[0m\n\u001b[0;31m    for i in range(0,n1)=\u001b[0m\n\u001b[0m                        ^\u001b[0m\n\u001b[0;31mSyntaxError\u001b[0m\u001b[0;31m:\u001b[0m invalid syntax\n"
          ]
        }
      ]
    },
    {
      "cell_type": "markdown",
      "source": [
        "Debería estar esrcrito con : puntos, este error es muy comun ya que es de sintaxis"
      ],
      "metadata": {
        "id": "IdUzhTNLmGqJ"
      }
    },
    {
      "cell_type": "code",
      "source": [
        "moñ=[1,2,3]\n",
        "eñe=[2,3,4]\n",
        "sum(moñ,eñe)"
      ],
      "metadata": {
        "colab": {
          "base_uri": "https://localhost:8080/",
          "height": 200
        },
        "id": "vuZqWhR5mZQa",
        "outputId": "f7cfbc70-1a3e-4198-8a1c-d1f1124615f8"
      },
      "execution_count": 11,
      "outputs": [
        {
          "output_type": "error",
          "ename": "TypeError",
          "evalue": "ignored",
          "traceback": [
            "\u001b[0;31m---------------------------------------------------------------------------\u001b[0m",
            "\u001b[0;31mTypeError\u001b[0m                                 Traceback (most recent call last)",
            "\u001b[0;32m<ipython-input-11-00c71d9d55ec>\u001b[0m in \u001b[0;36m<module>\u001b[0;34m\u001b[0m\n\u001b[1;32m      1\u001b[0m \u001b[0mmoñ\u001b[0m\u001b[0;34m=\u001b[0m\u001b[0;34m[\u001b[0m\u001b[0;36m1\u001b[0m\u001b[0;34m,\u001b[0m\u001b[0;36m2\u001b[0m\u001b[0;34m,\u001b[0m\u001b[0;36m3\u001b[0m\u001b[0;34m]\u001b[0m\u001b[0;34m\u001b[0m\u001b[0;34m\u001b[0m\u001b[0m\n\u001b[1;32m      2\u001b[0m \u001b[0meñe\u001b[0m\u001b[0;34m=\u001b[0m\u001b[0;34m[\u001b[0m\u001b[0;36m2\u001b[0m\u001b[0;34m,\u001b[0m\u001b[0;36m3\u001b[0m\u001b[0;34m,\u001b[0m\u001b[0;36m4\u001b[0m\u001b[0;34m]\u001b[0m\u001b[0;34m\u001b[0m\u001b[0;34m\u001b[0m\u001b[0m\n\u001b[0;32m----> 3\u001b[0;31m \u001b[0msum\u001b[0m\u001b[0;34m(\u001b[0m\u001b[0mmoñ\u001b[0m\u001b[0;34m,\u001b[0m\u001b[0meñe\u001b[0m\u001b[0;34m)\u001b[0m\u001b[0;34m\u001b[0m\u001b[0;34m\u001b[0m\u001b[0m\n\u001b[0m",
            "\u001b[0;31mTypeError\u001b[0m: can only concatenate list (not \"int\") to list"
          ]
        }
      ]
    },
    {
      "cell_type": "markdown",
      "source": [
        "Typeerror porque no se puede sumar dos listas a la vez, debería usar el .extend() y luego si sumar una lista"
      ],
      "metadata": {
        "id": "l9Kk-vfimsgr"
      }
    },
    {
      "cell_type": "code",
      "source": [
        "if 10>55:\n",
        "  print(chayanne es mejor que messi)"
      ],
      "metadata": {
        "colab": {
          "base_uri": "https://localhost:8080/",
          "height": 130
        },
        "id": "1C6oGhKNnHfE",
        "outputId": "6ff91c51-797b-4395-ba57-ff840d208faf"
      },
      "execution_count": 12,
      "outputs": [
        {
          "output_type": "error",
          "ename": "SyntaxError",
          "evalue": "ignored",
          "traceback": [
            "\u001b[0;36m  File \u001b[0;32m\"<ipython-input-12-61930848bc5b>\"\u001b[0;36m, line \u001b[0;32m2\u001b[0m\n\u001b[0;31m    print(chayanne es mejor que messi)\u001b[0m\n\u001b[0m                    ^\u001b[0m\n\u001b[0;31mSyntaxError\u001b[0m\u001b[0;31m:\u001b[0m invalid syntax\n"
          ]
        }
      ]
    },
    {
      "cell_type": "markdown",
      "source": [
        "Error de sintaxis porque la comparación es falsa"
      ],
      "metadata": {
        "id": "mzxLEV7UnlFK"
      }
    },
    {
      "cell_type": "code",
      "source": [
        "x=int(input(\"Ingrese un numero\"))\n",
        "if x>=0:\n",
        "  print(\"libre soy\")"
      ],
      "metadata": {
        "colab": {
          "base_uri": "https://localhost:8080/",
          "height": 130
        },
        "id": "ac3cfBtJn_lv",
        "outputId": "e9c50ffe-c596-46df-bbee-c5626bd083d6"
      },
      "execution_count": 15,
      "outputs": [
        {
          "output_type": "error",
          "ename": "SyntaxError",
          "evalue": "ignored",
          "traceback": [
            "\u001b[0;36m  File \u001b[0;32m\"<ipython-input-15-d9c1426144ab>\"\u001b[0;36m, line \u001b[0;32m2\u001b[0m\n\u001b[0;31m    if x>*=0:\u001b[0m\n\u001b[0m          ^\u001b[0m\n\u001b[0;31mSyntaxError\u001b[0m\u001b[0;31m:\u001b[0m invalid syntax\n"
          ]
        }
      ]
    },
    {
      "cell_type": "markdown",
      "source": [
        "Error de sintaxis porque no reconoce operadores dentro de la afirmación"
      ],
      "metadata": {
        "id": "z5xdBl76ta_4"
      }
    },
    {
      "cell_type": "code",
      "source": [
        "factor={}\n",
        "n=input(\"Ingrese un dato\")\n",
        "n.append(factos)"
      ],
      "metadata": {
        "colab": {
          "base_uri": "https://localhost:8080/",
          "height": 217
        },
        "id": "Si8Oaxs0uBnj",
        "outputId": "b5a01c2b-0cda-4c73-e1a6-6fdc49ccae49"
      },
      "execution_count": 24,
      "outputs": [
        {
          "name": "stdout",
          "output_type": "stream",
          "text": [
            "Ingrese un dato2\n"
          ]
        },
        {
          "output_type": "error",
          "ename": "AttributeError",
          "evalue": "ignored",
          "traceback": [
            "\u001b[0;31m---------------------------------------------------------------------------\u001b[0m",
            "\u001b[0;31mAttributeError\u001b[0m                            Traceback (most recent call last)",
            "\u001b[0;32m<ipython-input-24-cb6df3ec3c25>\u001b[0m in \u001b[0;36m<module>\u001b[0;34m\u001b[0m\n\u001b[1;32m      1\u001b[0m \u001b[0mfactor\u001b[0m\u001b[0;34m=\u001b[0m\u001b[0;34m{\u001b[0m\u001b[0;34m}\u001b[0m\u001b[0;34m\u001b[0m\u001b[0;34m\u001b[0m\u001b[0m\n\u001b[1;32m      2\u001b[0m \u001b[0mn\u001b[0m\u001b[0;34m=\u001b[0m\u001b[0minput\u001b[0m\u001b[0;34m(\u001b[0m\u001b[0;34m\"Ingrese un dato\"\u001b[0m\u001b[0;34m)\u001b[0m\u001b[0;34m\u001b[0m\u001b[0;34m\u001b[0m\u001b[0m\n\u001b[0;32m----> 3\u001b[0;31m \u001b[0mn\u001b[0m\u001b[0;34m.\u001b[0m\u001b[0mappend\u001b[0m\u001b[0;34m(\u001b[0m\u001b[0mfactos\u001b[0m\u001b[0;34m)\u001b[0m\u001b[0;34m\u001b[0m\u001b[0;34m\u001b[0m\u001b[0m\n\u001b[0m",
            "\u001b[0;31mAttributeError\u001b[0m: 'str' object has no attribute 'append'"
          ]
        }
      ]
    },
    {
      "cell_type": "markdown",
      "source": [
        "Error de atributo ya que no se puede usar la herramienta .append() en un diccionario, solo en las listas."
      ],
      "metadata": {
        "id": "H59K_LnQxBYx"
      }
    }
  ]
}