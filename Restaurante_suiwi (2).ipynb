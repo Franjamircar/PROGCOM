{
  "nbformat": 4,
  "nbformat_minor": 0,
  "metadata": {
    "colab": {
      "provenance": []
    },
    "kernelspec": {
      "name": "python3",
      "display_name": "Python 3"
    },
    "language_info": {
      "name": "python"
    }
  },
  "cells": [
    {
      "cell_type": "code",
      "execution_count": 29,
      "metadata": {
        "colab": {
          "base_uri": "https://localhost:8080/"
        },
        "id": "IIgrUZ53wfnQ",
        "outputId": "2a83c5a4-383b-4270-de9a-5fd313644ddb"
      },
      "outputs": [
        {
          "name": "stdout",
          "output_type": "stream",
          "text": [
            "Esta es la comida que vendemos, combo1:20000,combo2:25000,combo3:18000,combo4:24500,jugos naturales:7000,cerveza:3500,agua:4000,gaseosa:2500,papas:3000\n",
            "Cuál combo o bebida se vendiócombo1\n",
            "¿En que cantidad?2\n",
            "Listo!, ¿algun otro producto? ¡si termino la orden escribir salir!salir\n",
            "Cuandos quiere?2\n",
            "Estos son los productos que esta agregados a la factura de hoy ['combo1', 'combo1']\n",
            "¿Desea agregar otro combo o bebida?no\n",
            "El total de ventas es de 40000\n",
            "hey mami quiere hacer otra factuat, si desea terminar la operación type salirsi\n"
          ]
        }
      ],
      "source": [
        "inventario={\"combo1\":20000,\"combo2\":25000,\"combo3\":18000,\"combo4\":24500,\"jugo natural\":7000,\"cerveza\":3500,\"agua\":4000,\"gaseosa\":2500,\"papas\":3000}\n",
        "print(\"Esta es la comida que vendemos, combo1:20000,combo2:25000,combo3:18000,combo4:24500,jugos naturales:7000,cerveza:3500,agua:4000,gaseosa:2500,papas:3000\")\n",
        "bolsa=[]\n",
        "total=[]\n",
        "fin=[]\n",
        "def cajero():\n",
        "    usuario = input(\"Cuál combo o bebida se vendió\").lower()\n",
        "    cantidad=int(input(\"¿En que cantidad?\"))\n",
        "    while usuario!=\"salir\":\n",
        "        if usuario in inventario:\n",
        "         for i in range(0,cantidad):\n",
        "             bolsa.append(usuario)\n",
        "         usuario = input(\"Listo!, ¿algun otro producto? ¡si terminó la orden escribir salir!\")\n",
        "         cantidad=int(input(\"¿Cuantós quiere?\"))\n",
        "        else:\n",
        "            usario=input(\"No tenemos el alimento deseado\")\n",
        "cajero()\n",
        "print(\"Estos son los productos que esta agregados a la factura de hoy\",bolsa)\n",
        "respuesta=input(\"¿Desea agregar otro combo o bebida?\").lower()\n",
        "if respuesta==\"si\":\n",
        "    cajero()\n",
        "    print(\"Estos son todos los productos que se vendieron\", bolsa)\n",
        "    for cr7 in bolsa:0\n",
        "    total.append(inventario[cr7])\n",
        "    total_a_pagar=sum(total)\n",
        "    fin.append(total_a_pagar)\n",
        "else:\n",
        "    for cr7 in bolsa:\n",
        "        total.append(inventario[cr7])\n",
        "    total_a_pagar=sum(total)\n",
        "print(\"El total de ventas es de\", total_a_pagar)"
      ]
    }
  ]
}