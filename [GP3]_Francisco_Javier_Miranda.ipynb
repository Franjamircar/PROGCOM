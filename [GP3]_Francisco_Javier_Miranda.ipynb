{
  "nbformat": 4,
  "nbformat_minor": 0,
  "metadata": {
    "colab": {
      "provenance": []
    },
    "kernelspec": {
      "name": "python3",
      "display_name": "Python 3"
    },
    "language_info": {
      "name": "python"
    }
  },
  "cells": [
    {
      "cell_type": "code",
      "execution_count": 4,
      "metadata": {
        "colab": {
          "base_uri": "https://localhost:8080/"
        },
        "id": "AzcClTLAXZXk",
        "outputId": "826fa5b3-1727-4fe2-9f51-ea414e4887ff"
      },
      "outputs": [
        {
          "output_type": "stream",
          "name": "stdout",
          "text": [
            "Estos son los productos que tenemos en el inventario, banano:500,mango:800,manzana:500,leche:3400,papa:600,huevo:600,melon:5000,sandia:4800,limon:300,mangostino:1300,uva:200,fresa:300,guayaba:300,pera:300,papaya:4000,arandano:600,maduro:500,lechuga:500,jamon:7000,queso:1500,ps5:200 \n",
            "Hola, que desea llevar???manzana\n",
            "Cuandos quiere?7\n",
            "Listo!, desea llevar algo mas??? si termino la orden escribir salirbanano\n",
            "Cuandos quiere?10\n",
            "Listo!, desea llevar algo mas??? si termino la orden escribir salirmango\n",
            "Cuandos quiere?11\n",
            "Listo!, desea llevar algo mas??? si termino la orden escribir salirsalir\n",
            "Cuandos quiere?0\n",
            "Estos son los alimentos que lleva en la bolsa ['manzana', 'manzana', 'manzana', 'manzana', 'manzana', 'manzana', 'manzana', 'banano', 'banano', 'banano', 'banano', 'banano', 'banano', 'banano', 'banano', 'banano', 'banano', 'mango', 'mango', 'mango', 'mango', 'mango', 'mango', 'mango', 'mango', 'mango', 'mango', 'mango']\n",
            "Desea llevar algun alimento mas?si\n",
            "Hola, que desea llevar???jamon\n",
            "Cuandos quiere?10\n",
            "Listo!, desea llevar algo mas??? si termino la orden escribir salirsalir\n",
            "Cuandos quiere?0\n",
            "Estas son todos los aliementos que ordeno ['manzana', 'manzana', 'manzana', 'manzana', 'manzana', 'manzana', 'manzana', 'banano', 'banano', 'banano', 'banano', 'banano', 'banano', 'banano', 'banano', 'banano', 'banano', 'mango', 'mango', 'mango', 'mango', 'mango', 'mango', 'mango', 'mango', 'mango', 'mango', 'mango', 'jamon', 'jamon', 'jamon', 'jamon', 'jamon', 'jamon', 'jamon', 'jamon', 'jamon', 'jamon']\n",
            "El total a pagar es de 87300\n"
          ]
        }
      ],
      "source": [
        "inventario={\"banano\":500,\"mango\":800,\"manzana\":500,\"leche\":3400,\"papa\":600,\"huevo\":600,\"melon\":5000,\"sandia\":4800,\"limon\":300,\"mangostino\":1300,\"uva\":200,\"fresa\":300,\"guayaba\":300,\"pera\":300,\"papaya\":4000,\"arandano\":600,\"maduro\":500,\"lechuga\":500,\"jamon\":7000,\"queso\":1500,\"ps5\":200}\n",
        "print(\"Estos son los productos que tenemos en el inventario, banano:500,mango:800,manzana:500,leche:3400,papa:600,huevo:600,melon:5000,sandia:4800,limon:300,mangostino:1300,uva:200,fresa:300,guayaba:300,pera:300,papaya:4000,arandano:600,maduro:500,lechuga:500,jamon:7000,queso:1500,ps5:200\")\n",
        "bolsa=[]\n",
        "total=[]\n",
        "def cajero():\n",
        "    usuario = input(\"Hola, que desea llevar???\").lower()\n",
        "    cantidad=int(input(\"Cuandos quiere?\"))\n",
        "    while usuario!=\"salir\":\n",
        "        if usuario in inventario:\n",
        "         for i in range(0,cantidad):\n",
        "             bolsa.append(usuario)\n",
        "         usuario = input(\"Listo!, desea llevar algo mas??? si termino la orden escribir salir\")\n",
        "         cantidad=int(input(\"Cuandos quiere?\"))\n",
        "        else:\n",
        "            usario=input(\"No tenemos el alimento deseado\")\n",
        "cajero()\n",
        "print(\"Estos son los alimentos que lleva en la bolsa\",bolsa)\n",
        "respuesta=input(\"Desea llevar algun alimento mas?\").lower()\n",
        "if respuesta==\"si\":\n",
        "    cajero()\n",
        "    print(\"Estas son todos los aliementos que ordeno\", bolsa)\n",
        "    for items in bolsa:\n",
        "        total.append(inventario[items])\n",
        "    total_a_pagar=sum(total)\n",
        "else:\n",
        "    for items in bolsa:\n",
        "        total.append(inventario[items])\n",
        "    total_a_pagar=sum(total)\n",
        "print(\"El total a pagar es de\", total_a_pagar)"
      ]
    }
  ]
}