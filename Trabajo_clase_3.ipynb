{
  "nbformat": 4,
  "nbformat_minor": 0,
  "metadata": {
    "colab": {
      "name": "Trabajo clase 3 ",
      "provenance": []
    },
    "kernelspec": {
      "name": "python3",
      "display_name": "Python 3"
    },
    "language_info": {
      "name": "python"
    }
  },
  "cells": [
    {
      "cell_type": "code",
      "execution_count": 44,
      "metadata": {
        "colab": {
          "base_uri": "https://localhost:8080/"
        },
        "id": "PfC0eIt6d8Hy",
        "outputId": "2eb1d155-afe9-4123-c961-a4dcd3b87d5c"
      },
      "outputs": [
        {
          "output_type": "stream",
          "name": "stdout",
          "text": [
            "deme el primer numero8\n",
            "deme el primer numero2\n",
            "4.0Es exacto\n"
          ]
        }
      ],
      "source": [
        "x=int(input(\"deme el primer numero\"))\n",
        "y=int(input(\"deme el primer numero\"))\n",
        "u=x/y\n",
        "if y==0:\n",
        "  print(\"No se puede porque y=0\")\n",
        "if x%y==0:\n",
        "  print(str(u)+\"Es exacto\")\n",
        "else:\n",
        "  print(str(u)+\"No es exacto\")\n",
        "\n"
      ]
    },
    {
      "cell_type": "code",
      "source": [
        "x=int(input(\"deme el primer numero\"))\n",
        "y=int(input(\"deme el primer numero\"))\n",
        "u=x/y\n",
        "if x%y==0:\n",
        "  print(str(x),\"y\",str(y)+\"Son multiplos\")\n",
        "else:\n",
        "  print(str(x),\"y\",str(y)+\"No son multiplos\")"
      ],
      "metadata": {
        "colab": {
          "base_uri": "https://localhost:8080/"
        },
        "id": "x_2suRoFn4sQ",
        "outputId": "9f0353fd-b44a-4c7c-9235-227eb8d103ba"
      },
      "execution_count": 19,
      "outputs": [
        {
          "output_type": "stream",
          "name": "stdout",
          "text": [
            "deme el primer numero9\n",
            "deme el primer numero5\n",
            "9 y 5No son multiplos\n"
          ]
        }
      ]
    },
    {
      "cell_type": "code",
      "source": [
        "x=int(input(\"deme la primera edad\"))\n",
        "y=int(input(\"deme la segunda edad\"))\n",
        "z=int(input(\"deme la tercera edad\"))\n",
        "if x>y>z:\n",
        "  print(\"El hermano mayor es el que tiene\",str(x),\"El hermano del medio es el que tiene\",str(y),\"El hermano menor es el que tiene\",str(z))\n",
        "if y>x>z:\n",
        "  print(\"El hermano mayor es el que tiene\",str(y),\"El hermano del medio es el que tiene\",str(x),\"El hermano menor es el que tiene\",str(z))\n",
        "if z>x>y:\n",
        "  print(\"El hermano mayor es el que tiene\",str(z),\"El hermano del medio es el que tiene\",str(x),\"El hermano menor es el que tiene\",str(y))\n",
        "if x>z>y:\n",
        "  print(\"El hermano mayor es el que tiene\",str(x),\"El hermano del medio es el que tiene\",str(z),\"El hermano menor es el que tiene\",str(y))\n",
        "if y>z>x:\n",
        "  print(\"El hermano mayor es el que tiene\",str(y),\"El hermano del medio es el que tiene\",str(z),\"El hermano menor es el que tiene\",str(x))\n",
        "if z>y>x:\n",
        "  print(\"El hermano mayor es el que tiene\",str(z),\"El hermano del medio es el que tiene\",str(y),\"El hermano menor es el que tiene\",str(x))\n"
      ],
      "metadata": {
        "colab": {
          "base_uri": "https://localhost:8080/"
        },
        "id": "pWvZtbyNoyWr",
        "outputId": "a9c62d76-9221-4e1d-9ee7-a02d83334e1c"
      },
      "execution_count": 26,
      "outputs": [
        {
          "output_type": "stream",
          "name": "stdout",
          "text": [
            "deme la primera edad55\n",
            "deme la segunda edad12\n",
            "deme la tercera edad33\n",
            "El hermano mayor es el que tiene 55 El hermano del medio es el que tiene 33 El hermano menor es el que tiene 12\n"
          ]
        }
      ]
    },
    {
      "cell_type": "code",
      "source": [
        "x=str(input(\"deme su codigo\"))\n",
        "if x>=u19500000\n",
        "no vale mia nada"
      ],
      "metadata": {
        "colab": {
          "base_uri": "https://localhost:8080/",
          "height": 130
        },
        "id": "E6lvpo5RvB70",
        "outputId": "825ae0ed-f93e-453e-e797-ae738051ba1e"
      },
      "execution_count": 64,
      "outputs": [
        {
          "output_type": "error",
          "ename": "SyntaxError",
          "evalue": "ignored",
          "traceback": [
            "\u001b[0;36m  File \u001b[0;32m\"<ipython-input-64-eeca6a8b6c92>\"\u001b[0;36m, line \u001b[0;32m2\u001b[0m\n\u001b[0;31m    if x>=u19500000\u001b[0m\n\u001b[0m                   ^\u001b[0m\n\u001b[0;31mSyntaxError\u001b[0m\u001b[0;31m:\u001b[0m invalid syntax\n"
          ]
        }
      ]
    }
  ]
}