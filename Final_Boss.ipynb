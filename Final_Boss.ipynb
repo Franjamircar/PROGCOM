{
  "nbformat": 4,
  "nbformat_minor": 0,
  "metadata": {
    "colab": {
      "provenance": []
    },
    "kernelspec": {
      "name": "python3",
      "display_name": "Python 3"
    },
    "language_info": {
      "name": "python"
    }
  },
  "cells": [
    {
      "cell_type": "code",
      "execution_count": 25,
      "metadata": {
        "colab": {
          "base_uri": "https://localhost:8080/"
        },
        "id": "VJ4PJqvkwx2k",
        "outputId": "faad02dc-849e-454e-e288-2c5dd5bdfabc"
      },
      "outputs": [
        {
          "output_type": "stream",
          "name": "stdout",
          "text": [
            "Cual es el numero de estudiantes del primer grupo1\n",
            "Ingrese el nombre del estudiantemateo\n",
            "La nota respectiva del estudiante2\n",
            "Cual es el numero de estudiantes del segundo grupo1\n",
            "Ingrese el nombre del estudianteleon\n",
            "La nota respectiva del estudiante5\n",
            "Cual es el numero de estudiantes del tercer grupo1\n",
            "Ingrese el nombre del estudianteteemo\n",
            "La nota respectiva del estudiante1\n",
            "Los promedios de los grupos son 2.0 5.0 1.0\n",
            "El promedio de los tres grupos es de 2.6666666666666665\n",
            "[5, 2, 1]\n"
          ]
        }
      ],
      "source": [
        "grupo1=[]\n",
        "nota_grupo1=[]\n",
        "grupo2=[]\n",
        "nota_grupo2=[]\n",
        "grupo3=[]\n",
        "nota_grupo3=[]\n",
        "ordennota=[]\n",
        "n1=int(input(\"Cuál es el número de estudiantes del primer grupo\"))\n",
        "for i in range(0,n1):\n",
        "  estudiante1=input(\"Ingrese el nombre del estudiante\")\n",
        "  notas1=int(input(\"La nota respectiva del estudiante\"))\n",
        "  grupo1.append(estudiante1)\n",
        "  nota_grupo1.append(notas1)\n",
        "sumagrupo1=sum(nota_grupo1)\n",
        "n2=int(input(\"Cuál es el numero de estudiantes del segundo grupo\"))\n",
        "for i in range(0,n2):\n",
        "  estudiante2=input(\"Ingrese el nombre del estudiante\")\n",
        "  notas2=int(input(\"La nota respectiva del estudiante\"))\n",
        "  grupo2.append(estudiante2)\n",
        "  nota_grupo2.append(notas2)\n",
        "sumagrupo2=sum(nota_grupo2)\n",
        "n3=int(input(\"Cuál es el numero de estudiantes del tercer grupo\"))\n",
        "for i in range(0,n3):\n",
        "  estudiante3=input(\"Ingrese el nombre del estudiante\")\n",
        "  notas3=int(input(\"La nota respectiva del estudiante\"))\n",
        "  grupo3.append(estudiante3)\n",
        "  nota_grupo3.append(notas3)\n",
        "sumagrupo3=sum(nota_grupo3)\n",
        "Sumafinal=(sumagrupo1+sumagrupo2+sumagrupo3)\n",
        "promedio=(Sumafinal/(n1+n2+n3))\n",
        "promedio1=(sumagrupo1/n1)\n",
        "promedio2=(sumagrupo2/n2)\n",
        "promedio3=(sumagrupo3/n3)\n",
        "print(\"Los promedios de los grupos son\",promedio1,promedio2,promedio3)\n",
        "print(\"El promedio de los tres grupos es de\",promedio)\n",
        "nota_grupo1.extend(nota_grupo2)\n",
        "nota_grupo1.extend(nota_grupo3)\n",
        "nota_grupo1.sort(reverse=True)\n",
        "print(\"El orden de las notas de mayor a menor es de\")\n",
        "print(nota_grupo1)\n"
      ]
    },
    {
      "cell_type": "code",
      "source": [],
      "metadata": {
        "id": "SWLB6IyE45ld"
      },
      "execution_count": 13,
      "outputs": []
    }
  ]
}