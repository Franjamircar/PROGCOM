{
  "nbformat": 4,
  "nbformat_minor": 0,
  "metadata": {
    "colab": {
      "provenance": []
    },
    "kernelspec": {
      "name": "python3",
      "display_name": "Python 3"
    },
    "language_info": {
      "name": "python"
    }
  },
  "cells": [
    {
      "cell_type": "code",
      "execution_count": 28,
      "metadata": {
        "colab": {
          "base_uri": "https://localhost:8080/",
          "height": 130
        },
        "id": "IIgrUZ53wfnQ",
        "outputId": "cea349e7-e642-48ab-972d-8c983f550e9f"
      },
      "outputs": [
        {
          "output_type": "error",
          "ename": "SyntaxError",
          "evalue": "ignored",
          "traceback": [
            "\u001b[0;36m  File \u001b[0;32m\"<ipython-input-28-0b06f1562be3>\"\u001b[0;36m, line \u001b[0;32m27\u001b[0m\n\u001b[0;31m    del bolsa(0,cantidad)\u001b[0m\n\u001b[0m       ^\u001b[0m\n\u001b[0;31mSyntaxError\u001b[0m\u001b[0;31m:\u001b[0m can't delete function call\n"
          ]
        }
      ],
      "source": [
        "inventario={\"combo1\":20000,\"combo2\":25000,\"combo3\":18000,\"combo4\":24500,\"jugo natural\":7000,\"cerveza\":3500,\"agua\":4000,\"gaseosa\":2500,\"papas\":3000}\n",
        "print(\"Esta es la comida que vendemos, combo1:20000,combo2:25000,combo3:18000,combo4:24500,jugos naturales:7000,cerveza:3500,agua:4000,gaseosa:2500,papas:3000\")\n",
        "bolsa=[]\n",
        "total=[]\n",
        "fin=[]\n",
        "def cajero():\n",
        "    usuario = input(\"¿Cuál combo o bebida se vendió?\").lower()\n",
        "    cantidad=int(input(\"¿En que cantidad?\"))\n",
        "    while usuario!=\"salir\":\n",
        "        if usuario in inventario:\n",
        "         for i in range(0,cantidad):\n",
        "             bolsa.append(usuario)\n",
        "         usuario = input(\"Listo!, ¿algun otro producto? ¡si terminó la orden escribir salir!\")\n",
        "         cantidad=int(input(\"Cuandos quiere?\"))\n",
        "        else:\n",
        "            usario=input(\"No tenemos el alimento deseado\")\n",
        "cajero()\n",
        "print(\"Estos son los productos que esta agregados a la factura de hoy\",bolsa)\n",
        "respuesta=input(\"¿Desea agregar otro combo o bebida?\").lower()\n",
        "if respuesta==\"si\":\n",
        "    cajero()\n",
        "    print(\"Estos son todos los productos que se vendieron\", bolsa)\n",
        "    for cr7 in bolsa:0\n",
        "    total.append(inventario[cr7])\n",
        "    total_a_pagar=sum(total)\n",
        "    fin.append(total_a_pagar)\n",
        "else:\n",
        "    for cr7 in bolsa:\n",
        "        total.append(inventario[cr7])\n",
        "    total_a_pagar=sum(total)\n",
        "print(\"El total de ventas es de\", total_a_pagar)\n",
        "next=input(\"¿desea hacer otra factura?, si desea terminar la operación type salir\").lower()\n",
        "while next!=\"salir\":\n",
        "  if next==\"si\":\n",
        "    cajero()\n",
        "    print(\"Estos son los productos que esta agregados a la factura de hoy\",bolsa)\n",
        "    respuesta=input(\"¿Desea agregar otro combo o bebida?\").lower()\n",
        "    if respuesta==\"si\":\n",
        "      cajero()\n",
        "      print(\"Estos son los productos que esta agreagados a la factura\").lower()\n",
        "      for cr7 in bolsa:0\n",
        "      total.append(inventario[cr7])\n",
        "      total_a_pagar=sum(total)\n",
        "    else:\n",
        "      for cr7 in bolsa:\n",
        "        total.append(inventario[cr7])\n",
        "        total_a_pagar=sum(total)\n",
        "        fin.append(total_a_pagar)\n",
        "        print(\"El total de ventas es de\", total_a_pagar)\n",
        "  else:\n",
        "   print(\"ya terminamos\")\n",
        "goku=sum(fin)\n",
        "print(\"La sumatoria de todo es \", goku)  "
      ]
    }
  ]
}
