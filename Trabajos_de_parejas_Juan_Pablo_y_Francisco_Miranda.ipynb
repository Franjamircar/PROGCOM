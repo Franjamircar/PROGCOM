{
  "nbformat": 4,
  "nbformat_minor": 0,
  "metadata": {
    "colab": {
      "name": "Trabajos de parejas Juan Pablo y Francisco Miranda.ipynb",
      "provenance": []
    },
    "kernelspec": {
      "name": "python3",
      "display_name": "Python 3"
    },
    "language_info": {
      "name": "python"
    }
  },
  "cells": [
    {
      "cell_type": "markdown",
      "source": [
        "##Trabajo de Francisco y Juan Pablo"
      ],
      "metadata": {
        "id": "MlfX-Fy2z9Bu"
      }
    },
    {
      "cell_type": "code",
      "execution_count": null,
      "metadata": {
        "id": "6HAdGNFGl-so"
      },
      "outputs": [],
      "source": [
        "def fibonacci(num):\n",
        "\n",
        "    if num > 1:\n",
        "        return fibonacci(num-1) + fibonacci(num-2)\n",
        "    return num\n",
        "for i in range(29):\n",
        "    print(fibonacci(i))\n"
      ]
    },
    {
      "cell_type": "code",
      "source": [
        "##determinAR SI ES PRIMO O NO\n",
        "def primo(num):\n",
        "    if num == 0 or num == 1 or num == 4:\n",
        "        return False\n",
        "    for x in range(2, int(num/2)):\n",
        "        if num % x == 0:\n",
        "            return False\n",
        "    return True\n",
        "num = int(input(\"meta un número: \"))\n",
        "es_primo = primo(num)\n",
        "if es_primo:\n",
        "\tprint(\"Es primo\")\n",
        "else:\n",
        "\tprint(\"NO es primo\")"
      ],
      "metadata": {
        "colab": {
          "base_uri": "https://localhost:8080/"
        },
        "id": "9XmbkCLNmskH",
        "outputId": "4113fc6e-a6e2-490b-8cf0-e0fb64cf0af5"
      },
      "execution_count": 46,
      "outputs": [
        {
          "output_type": "stream",
          "name": "stdout",
          "text": [
            "su merced meta un número: 10\n",
            "NO es primo\n"
          ]
        }
      ]
    },
    {
      "cell_type": "code",
      "source": [
        "n=int(input(\"Hasta que numero desea llegar\"))\n",
        "for i in range (1,11):\n",
        "  print(n*i)"
      ],
      "metadata": {
        "colab": {
          "base_uri": "https://localhost:8080/"
        },
        "id": "HKJu4oV8r9xt",
        "outputId": "76b82338-93a6-432d-90b1-dfa164c6d0f7"
      },
      "execution_count": 27,
      "outputs": [
        {
          "output_type": "stream",
          "name": "stdout",
          "text": [
            "Hasta que numero desea llegar10\n",
            "10\n",
            "20\n",
            "30\n",
            "40\n",
            "50\n",
            "60\n",
            "70\n",
            "80\n",
            "90\n",
            "100\n"
          ]
        }
      ]
    },
    {
      "cell_type": "code",
      "source": [
        "suma=0\n",
        "for i in range (100,0,-10):\n",
        "  suma=suma+i\n",
        "  print(suma)"
      ],
      "metadata": {
        "colab": {
          "base_uri": "https://localhost:8080/"
        },
        "id": "oUA7Ij4hvwvQ",
        "outputId": "917179db-1f3f-499e-8583-4030b176ba6b"
      },
      "execution_count": 44,
      "outputs": [
        {
          "output_type": "stream",
          "name": "stdout",
          "text": [
            "100\n",
            "190\n",
            "270\n",
            "340\n",
            "400\n",
            "450\n",
            "490\n",
            "520\n",
            "540\n",
            "550\n"
          ]
        }
      ]
    },
    {
      "cell_type": "code",
      "source": [
        "## factorial de 10 numeros diferentes\n",
        "for n in range (1,11):\n",
        "  print(f'tabala del{n}')\n",
        "  num=int(input('ingrese el nunmero que quiere saber el factorial! '))\n",
        "  for i in range (1,11):\n",
        "    print(n,'x',i,'=',n*i)"
      ],
      "metadata": {
        "id": "x-R2D2zEzwv1"
      },
      "execution_count": null,
      "outputs": []
    },
    {
      "cell_type": "code",
      "source": [
        "num=int(input('ingrese el nunmero que quiere saber el factorial! '))\n",
        "fact = 1\n",
        "  \n",
        "for i in range(1,num+1): \n",
        "    fact = fact * i \n",
        "     \n",
        "\n",
        "print('el factorial de ',num, 'es:')\n",
        "print(fact)"
      ],
      "metadata": {
        "id": "0JdmEaPbz0v2"
      },
      "execution_count": null,
      "outputs": []
    }
  ]
}