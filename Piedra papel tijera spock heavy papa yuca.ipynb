{
  "nbformat": 4,
  "nbformat_minor": 0,
  "metadata": {
    "colab": {
      "provenance": []
    },
    "kernelspec": {
      "name": "python3",
      "display_name": "Python 3"
    },
    "language_info": {
      "name": "python"
    }
  },
  "cells": [
    {
      "cell_type": "code",
      "execution_count": null,
      "metadata": {
        "id": "7bca7LsxtofC"
      },
      "outputs": [],
      "source": [
        "import random\n",
        "op = [\"piedra\", \"tijera\", \"papel\",\"lagarto\",\"spock\",\"heavy\",\"papa\"]\n",
        "\n",
        "while True:\n",
        "  user = input(\"Elige: piedra, papel, tijera, lagarto, spock, heavy,papa\").lower()\n",
        "  if user not in op:\n",
        "    print(\"No está en la opciones\")\n",
        "    continue \n",
        "  bot = random.choice(op)\n",
        "  print(\"El bot ha seleccionado\", bot)\n",
        "  if user == bot:\n",
        "      print(\"Empate, los dos seleccionaron\", user)\n",
        "  elif user == \"piedra\" and bot ==\"tijera\":\n",
        "      print(\"Ganaste chaval\", user,\"gana a\", bot)\n",
        "  elif user == \"tijera\" and bot ==\"papel\":\n",
        "      print(\"Ganaste chaval\", user,\"gana a\", bot)\n",
        "  elif user == \"papel\" and bot ==\"piedra\":\n",
        "      print(\"Ganaste chaval\", user,\"gana a\", bot)\n",
        "  elif user == \"papel\" and bot==\"spock\":\n",
        "      print(\"Ganaste chaval\", user,\"gana a\", bot)\n",
        "  elif user == \"lagarto\" and bot==\"papel\":\n",
        "      print(\"Ganaste chaval\", user,\"gana a\", bot)\n",
        "  elif user ==\"lagarto\" and bot==\"spock\":\n",
        "      print(\"Ganaste chaval\", user,\"gana a\", bot)\n",
        "  elif user ==\"tijera\" and bot==\"heavy\":\n",
        "      print(\"Ganaste chaval\", user,\"gana a\", bot) \n",
        "  elif user ==\"tijera\" and bot==\"lagarto\":\n",
        "      print(\"Ganaste chaval\", user,\"gana a\", bot)\n",
        "  elif user ==\"piedra\" and bot==\"heavy\":\n",
        "      print(\"Ganaste chaval\", user,\"gana a\", bot)\n",
        "  elif user ==\"piedra\" and bot==\"lagarto\":\n",
        "      print(\"Ganaste chaval\", user,\"gana a\", bot)  \n",
        "  elif user ==\"lagarto\" and bot==\"papa\":\n",
        "      print(\"Ganaste chaval\", user,\"gana a\", bot) \n",
        "  elif user ==\"papa\" and bot==\"piedra\":\n",
        "      print(\"Ganaste chaval\", user,\"gana a\", bot)\n",
        "  elif user ==\"papa\" and bot==\"tijera\":\n",
        "      print(\"Ganaste chaval\", user,\"gana a\", bot)\n",
        "  elif user ==\"papa\" and bot==\"papel\":\n",
        "      print(\"Ganaste chaval\", user,\"gana a\", bot)\n",
        "  elif user ==\"spock\" and bot==\"papa\":\n",
        "      print(\"Ganaste chaval\", user,\"gana a\", bot)\n",
        "  elif user ==\"spock\" and bot==\"tijera\":\n",
        "      print(\"Ganaste chaval\", user,\"gana a\", bot)\n",
        "  elif user ==\"spock\" and bot==\"piedra\":\n",
        "      print(\"Ganaste chaval\", user,\"gana a\", bot)\n",
        "  else:\n",
        "      print(\"Perdiste\", user,\"pierde con\",bot)"
      ]
    }
  ]
}
