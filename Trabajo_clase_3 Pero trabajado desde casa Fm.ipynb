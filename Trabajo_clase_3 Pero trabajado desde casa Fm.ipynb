{
  "nbformat": 4,
  "nbformat_minor": 0,
  "metadata": {
    "colab": {
      "name": "Trabajo clase 3 ",
      "provenance": []
    },
    "kernelspec": {
      "name": "python3",
      "display_name": "Python 3"
    },
    "language_info": {
      "name": "python"
    }
  },
  "cells": [
    {
      "cell_type": "code",
      "execution_count": null,
      "metadata": {
        "colab": {
          "base_uri": "https://localhost:8080/"
        },
        "id": "PfC0eIt6d8Hy",
        "outputId": "2eb1d155-afe9-4123-c961-a4dcd3b87d5c"
      },
      "outputs": [
        {
          "output_type": "stream",
          "name": "stdout",
          "text": [
            "deme el primer numero8\n",
            "deme el primer numero2\n",
            "4.0Es exacto\n"
          ]
        }
      ],
      "source": [
        "x=int(input(\"deme el primer numero\"))\n",
        "y=int(input(\"deme el primer numero\"))\n",
        "u=x/y\n",
        "if y==0:\n",
        "  print(\"No se puede porque y=0\")\n",
        "if x%y==0:\n",
        "  print(str(u)+\"Es exacto\")\n",
        "else:\n",
        "  print(str(u)+\"No es exacto\")\n",
        "\n"
      ]
    },
    {
      "cell_type": "code",
      "source": [
        "x=int(input(\"deme el primer numero\"))\n",
        "y=int(input(\"deme el primer numero\"))\n",
        "u=x/y\n",
        "if x%y==0:\n",
        "  print(str(x),\"y\",str(y)+\"Son multiplos\")\n",
        "else:\n",
        "  print(str(x),\"y\",str(y)+\"No son multiplos\")"
      ],
      "metadata": {
        "colab": {
          "base_uri": "https://localhost:8080/"
        },
        "id": "x_2suRoFn4sQ",
        "outputId": "9f0353fd-b44a-4c7c-9235-227eb8d103ba"
      },
      "execution_count": null,
      "outputs": [
        {
          "output_type": "stream",
          "name": "stdout",
          "text": [
            "deme el primer numero9\n",
            "deme el primer numero5\n",
            "9 y 5No son multiplos\n"
          ]
        }
      ]
    },
    {
      "cell_type": "code",
      "source": [
        "x=int(input(\"deme la primera edad\"))\n",
        "y=int(input(\"deme la segunda edad\"))\n",
        "z=int(input(\"deme la tercera edad\"))\n",
        "if x>y>z:\n",
        "  print(\"El hermano mayor es el que tiene\",str(x),\"El hermano del medio es el que tiene\",str(y),\"El hermano menor es el que tiene\",str(z))\n",
        "if y>x>z:\n",
        "  print(\"El hermano mayor es el que tiene\",str(y),\"El hermano del medio es el que tiene\",str(x),\"El hermano menor es el que tiene\",str(z))\n",
        "if z>x>y:\n",
        "  print(\"El hermano mayor es el que tiene\",str(z),\"El hermano del medio es el que tiene\",str(x),\"El hermano menor es el que tiene\",str(y))\n",
        "if x>z>y:\n",
        "  print(\"El hermano mayor es el que tiene\",str(x),\"El hermano del medio es el que tiene\",str(z),\"El hermano menor es el que tiene\",str(y))\n",
        "if y>z>x:\n",
        "  print(\"El hermano mayor es el que tiene\",str(y),\"El hermano del medio es el que tiene\",str(z),\"El hermano menor es el que tiene\",str(x))\n",
        "if z>y>x:\n",
        "  print(\"El hermano mayor es el que tiene\",str(z),\"El hermano del medio es el que tiene\",str(y),\"El hermano menor es el que tiene\",str(x))\n"
      ],
      "metadata": {
        "colab": {
          "base_uri": "https://localhost:8080/"
        },
        "id": "pWvZtbyNoyWr",
        "outputId": "a9c62d76-9221-4e1d-9ee7-a02d83334e1c"
      },
      "execution_count": null,
      "outputs": [
        {
          "output_type": "stream",
          "name": "stdout",
          "text": [
            "deme la primera edad55\n",
            "deme la segunda edad12\n",
            "deme la tercera edad33\n",
            "El hermano mayor es el que tiene 55 El hermano del medio es el que tiene 33 El hermano menor es el que tiene 12\n"
          ]
        }
      ]
    },
    {
      "cell_type": "code",
      "source": [
        "x=str(input(\"deme su codigo\"))\n",
        "if x>=u19500000\n",
        "no vale mia nada"
      ],
      "metadata": {
        "colab": {
          "base_uri": "https://localhost:8080/",
          "height": 130
        },
        "id": "E6lvpo5RvB70",
        "outputId": "825ae0ed-f93e-453e-e797-ae738051ba1e"
      },
      "execution_count": null,
      "outputs": [
        {
          "output_type": "error",
          "ename": "SyntaxError",
          "evalue": "ignored",
          "traceback": [
            "\u001b[0;36m  File \u001b[0;32m\"<ipython-input-64-eeca6a8b6c92>\"\u001b[0;36m, line \u001b[0;32m2\u001b[0m\n\u001b[0;31m    if x>=u19500000\u001b[0m\n\u001b[0m                   ^\u001b[0m\n\u001b[0;31mSyntaxError\u001b[0m\u001b[0;31m:\u001b[0m invalid syntax\n"
          ]
        }
      ]
    },
    {
      "cell_type": "markdown",
      "source": [
        "Estos los hice desde la casa\n"
      ],
      "metadata": {
        "id": "H4xor3wG2ugz"
      }
    },
    {
      "cell_type": "code",
      "source": [
        "print(\"Porfavor responder las preguntas con total sinceridad\")\n",
        "x=int(input(\"Cuanto dinero tiene en su pratimonio?\"))\n",
        "y=int(input(\"Cual es el valor total de sus bienes raices?\"))\n",
        "Pb= x+y;\n",
        "print(Pb,\" Este es su patrimonio bruto\")\n",
        "z=int(input(\"Ahora, insertar el valor de sus costos, deudas y deducciones\"))\n",
        "In=Pb-z;\n",
        "print(In,\" Estos sus ingresos netos\")\n",
        "Rf=In*0.25;\n",
        "u=print(Rf,\"Este es el valor de la renta a pagar\")"
      ],
      "metadata": {
        "id": "1eHW1C1St5LO",
        "colab": {
          "base_uri": "https://localhost:8080/"
        },
        "outputId": "396f3665-9c2b-4edd-f882-f701b19f87e9"
      },
      "execution_count": null,
      "outputs": [
        {
          "output_type": "stream",
          "name": "stdout",
          "text": [
            "Porfavor responder las preguntas con total sinceridad\n",
            "Cuanto dinero tiene en su pratimonio?2000\n",
            "Cual es el valor total de sus bienes raices?10000\n",
            "12000  Este es su patrimonio bruto\n",
            "Ahora, insertar el valor de sus costos, deudas y deducciones5000\n",
            "7000  Estos sus ingresos netos\n",
            "1750.0 Este es el valor de la renta a pagar\n"
          ]
        }
      ]
    },
    {
      "cell_type": "code",
      "source": [
        "x=float(input(\"Ingresar su primera nota\"))\n",
        "y=float(input(\"Ingresar su segunda nota\"))\n",
        "z=float(input(\"Ingresar su tercera nota\"))\n",
        "i=float(input(\"Ingresar su cuarta nota\"))\n",
        "Pr=(x+y+z+i)/4;\n",
        "if Pr>4.5:\n",
        "  print(\"Está eximido del último examen porque su promedio es\", Pr)\n",
        "if Pr>3.5 and Pr<4.5:\n",
        "  print(\"Debe presentar el examen, ya que su promedio es\", Pr)\n",
        "if Pr>3 and Pr<3.5:\n",
        "  print(\"Debe presentar el examen y ademas un trabajo, ya que su promedio es\", Pr)\n",
        "if Pr>2 and Pr<3:\n",
        "  print(\"Debe presentar la habilitación, ya que su promedio es\", Pr)\n",
        "\n",
        "if Pr<2:\n",
        "  print(\"Nos vemos en el siguiente semestre pero en el mismo curso :(, ya que su promedio es\", Pr)\n"
      ],
      "metadata": {
        "colab": {
          "base_uri": "https://localhost:8080/"
        },
        "id": "9gGStyDq2s5l",
        "outputId": "2afa5f99-c6d4-40f2-ea55-8c0a6d68ba65"
      },
      "execution_count": null,
      "outputs": [
        {
          "output_type": "stream",
          "name": "stdout",
          "text": [
            "Ingresar su primera nota1.5\n",
            "Ingresar su segunda nota1.3\n",
            "Ingresar su tercera nota2\n",
            "Ingresar su cuarta nota1.5\n",
            "Nos vemos en el siguiente semestre pero en mismo curso :(, ya que su promedio es 1.575\n"
          ]
        }
      ]
    },
    {
      "cell_type": "code",
      "source": [
        "x=int(input(\"En que ano nacio?\"))\n",
        "y=int(input(\"En que mes?\"))\n",
        "z=int(input(\"En que dia?\"))\n",
        "t=int(input(\"En que ano estamos?\"))\n",
        "u=int(input(\"En que mes?\"))\n",
        "p=int(input(\"En que dia?\"))\n",
        "An=t-x;\n",
        "me=y-u;\n",
        "di=z-p;\n",
        "if me>0 and di>0:\n",
        "  cum=(((me-1)*30)+di);\n",
        "  print(cum, \"Son los dias que faltan para tu cumple\")\n",
        "if me<0 and di>0:\n",
        "  cum=(((me+12)*30)+di);\n",
        "  print(cum, \"Son los dias que faltan para tu cumple\")\n",
        "if me>0 and di<0:\n",
        "  cum=(((me-1)*30)+(di+30));\n",
        "  print(cum, \"Son los dias que faltan para tu cumple\")\n",
        "\n",
        "if me<0 and di<0:\n",
        "  cum=(((me+12)*30)+(di+30))\n",
        "  print(cum, \"Son los dias que faltan para tu cumple\")\n",
        "   "
      ],
      "metadata": {
        "colab": {
          "base_uri": "https://localhost:8080/"
        },
        "id": "kxa36tqr5EBo",
        "outputId": "9e600c67-5209-4b09-cb5d-5c00ffd5c4d5"
      },
      "execution_count": null,
      "outputs": [
        {
          "output_type": "stream",
          "name": "stdout",
          "text": [
            "En que ano nacio?2022\n",
            "En que mes?12\n",
            "En que dia?5\n",
            "En que ano estamos?1\n",
            "En que mes?12\n",
            "En que dia?10\n",
            "415 Son los dias que faltan para tu cumple\n"
          ]
        }
      ]
    },
    {
      "cell_type": "code",
      "source": [
        "x=int(input(\"Ingrese el numero\"))\n",
        "if x%4==0 and x%100!=0:\n",
        "  print(\"El numero es bisiesto\")\n",
        "else:\n",
        "  print(\"El numero no es bisiesto\")"
      ],
      "metadata": {
        "colab": {
          "base_uri": "https://localhost:8080/"
        },
        "id": "1JVa98oCPdHV",
        "outputId": "170803df-4212-4d23-bf73-1def5e474907"
      },
      "execution_count": null,
      "outputs": [
        {
          "output_type": "stream",
          "name": "stdout",
          "text": [
            "Ingrese el numero2000\n",
            "El numero no es bisiesto\n"
          ]
        }
      ]
    },
    {
      "cell_type": "code",
      "source": [
        "print(\"Recuerde que la ecuación de la recta es ax+b=0 \")\n",
        "y=int(input(\"Ingresar el valor de a\"))\n",
        "z=int(input(\"Ingresar el valor de b\"))\n",
        "R=((-1*z)/y)\n",
        "print(\"El resultado es \",R)\n",
        "\n"
      ],
      "metadata": {
        "colab": {
          "base_uri": "https://localhost:8080/"
        },
        "id": "_loIyd81QgfU",
        "outputId": "017520a2-6cf0-4cb8-d972-72e053d8e280"
      },
      "execution_count": null,
      "outputs": [
        {
          "output_type": "stream",
          "name": "stdout",
          "text": [
            "Recuerde que la ecuación de la recta es ax+b=0 \n",
            "Ingresar el valor de a3\n",
            "Ingresar el valor de b4\n",
            "El resultado es  -1.3333333333333333\n"
          ]
        }
      ]
    },
    {
      "cell_type": "code",
      "source": [
        "print(\"Recuerde que la pendiente de la recta es ax+b=c \")\n",
        "y=int(input(\"Ingresar el valor de a\"))\n",
        "z=int(input(\"Ingresar el valor de b\"))\n",
        "u=int(input(\"Ingresar el valor de c\"))\n",
        "x=((u+(-1*z))/y)\n",
        "print(\"El resultado es \",x)"
      ],
      "metadata": {
        "colab": {
          "base_uri": "https://localhost:8080/"
        },
        "id": "UTr9xrsBRMdS",
        "outputId": "c56585ee-2f49-424d-a28f-10164d1515d0"
      },
      "execution_count": null,
      "outputs": [
        {
          "output_type": "stream",
          "name": "stdout",
          "text": [
            "Recuerde que la pendiente de la recta es ax+b=c \n",
            "Ingresar el valor de a32\n",
            "Ingresar el valor de b-1\n",
            "Ingresar el valor de c4\n",
            "El resultado es  0.15625\n"
          ]
        }
      ]
    },
    {
      "cell_type": "code",
      "source": [
        "x=int(input(\"Que operación desea realizar? 1.Suma-2.Restar-3.Multiplicar-4.Dividir\"))\n",
        "if x==1:\n",
        "  y=int(input(\"Cuanto es 3+5\"))\n",
        "  if y==8:\n",
        "    print(\"Correcto\")\n",
        "  else:\n",
        "    print(\"Uy pana casi\")\n",
        "if x==2:\n",
        "  z=int(input(\"Cuanto es 15-7\"))\n",
        "  if z==8:\n",
        "    print(\"Correcto\")\n",
        "  else:\n",
        "    print(\"Nopi ;(\")\n",
        "if x==3:\n",
        "  p=int(input(\"Cuanto es 12x10\"))\n",
        "  if p==120:\n",
        "    print(\"Correcto\")\n",
        "  else:\n",
        "    print(\"Siga intentando que se vienen cositas\")\n",
        "if x==4:\n",
        "  i=int(input(\"Cuanto es 120/40\"))\n",
        "  if i==3:\n",
        "    print(\"Correcto\")\n",
        "  else:\n",
        "    print(\"Siga intentando que se vienen cositas\")\n"
      ],
      "metadata": {
        "colab": {
          "base_uri": "https://localhost:8080/"
        },
        "id": "_c4gflQeTNlD",
        "outputId": "b9b5dc77-298a-4a7d-e798-4f623f179dec"
      },
      "execution_count": null,
      "outputs": [
        {
          "output_type": "stream",
          "name": "stdout",
          "text": [
            "Que operación desea realizar? 1.Suma-2.Restar-3.Multiplicar-4.Dividir3\n",
            "Cuanto es 12x1010\n",
            "Siga intentando que se vienen cositas\n"
          ]
        }
      ]
    },
    {
      "cell_type": "code",
      "source": [
        "x=int(input(\"Cual es la cantidad que desea convertir?\"))\n",
        "y=int(input(\"Cual es el tipo de converios que desea hacer?, 1. cm a m, 2. cm a km, 3. m a km, 4. km a cm o 5. km a m\"))\n",
        "if y==1:\n",
        "  R=x/100;\n",
        "  print(R,\" Es la resultado\")\n",
        "if y==2:\n",
        "  R=x/100000;\n",
        "  print(R,\" Es la resultado\")\n",
        "if y==3:\n",
        "  R=x/1000;\n",
        "  print(R,\" Es la resultado\")\n",
        "if y==4:\n",
        "  R=x*100000;\n",
        "  print(R,\" Es la resultado\")\n",
        "if y==5:\n",
        "  R=x*1000;\n",
        "  print(R,\" Es la resultado\")\n",
        "if y>5:\n",
        "  print(\"Es hasta 5 no mas ;v\")\n"
      ],
      "metadata": {
        "id": "d_pNvhBm1fZx",
        "colab": {
          "base_uri": "https://localhost:8080/"
        },
        "outputId": "ec3aed57-38ff-455d-b79d-82485623446f"
      },
      "execution_count": 8,
      "outputs": [
        {
          "output_type": "stream",
          "name": "stdout",
          "text": [
            "Cual es la cantidad que desea convertir?500\n",
            "Cual es el tipo de converios que desea hacer?, 1. cm a m, 2. cm a km, 3. m a km, 4. km a cm o 5. km a m3\n",
            "0.5  Es la resultado\n"
          ]
        }
      ]
    },
    {
      "cell_type": "code",
      "source": [
        "x=str(input(\"Deme su letra\"))\n",
        "if x==\"a\" or x==\"e\" or x==\"i\" or x==\"o\" or x==\"u\" and x[1:2]==\" \":\n",
        "  print(\"Es una vocal\")\n",
        "else:\n",
        "  print[\"Es consonante\"]\n",
        "if x[0:1]==x[1:2] or x[0:1]!=\" \":\n",
        "  print(\"Solo se puede una letra\")\n",
        "\n"
      ],
      "metadata": {
        "colab": {
          "base_uri": "https://localhost:8080/",
          "height": 252
        },
        "id": "OBISjOK_jwnq",
        "outputId": "5aca7346-ba3c-4dd4-c52b-c52cf44a0065"
      },
      "execution_count": 13,
      "outputs": [
        {
          "name": "stdout",
          "output_type": "stream",
          "text": [
            "Deme su letrauu\n"
          ]
        },
        {
          "output_type": "error",
          "ename": "TypeError",
          "evalue": "ignored",
          "traceback": [
            "\u001b[0;31m---------------------------------------------------------------------------\u001b[0m",
            "\u001b[0;31mTypeError\u001b[0m                                 Traceback (most recent call last)",
            "\u001b[0;32m<ipython-input-13-3601225fbd37>\u001b[0m in \u001b[0;36m<module>\u001b[0;34m\u001b[0m\n\u001b[1;32m      3\u001b[0m   \u001b[0mprint\u001b[0m\u001b[0;34m(\u001b[0m\u001b[0;34m\"Es una vocal\"\u001b[0m\u001b[0;34m)\u001b[0m\u001b[0;34m\u001b[0m\u001b[0;34m\u001b[0m\u001b[0m\n\u001b[1;32m      4\u001b[0m \u001b[0;32melse\u001b[0m\u001b[0;34m:\u001b[0m\u001b[0;34m\u001b[0m\u001b[0;34m\u001b[0m\u001b[0m\n\u001b[0;32m----> 5\u001b[0;31m   \u001b[0mprint\u001b[0m\u001b[0;34m[\u001b[0m\u001b[0;34m\"Es consonante\"\u001b[0m\u001b[0;34m]\u001b[0m\u001b[0;34m\u001b[0m\u001b[0;34m\u001b[0m\u001b[0m\n\u001b[0m\u001b[1;32m      6\u001b[0m \u001b[0;32mif\u001b[0m \u001b[0mx\u001b[0m\u001b[0;34m[\u001b[0m\u001b[0;36m0\u001b[0m\u001b[0;34m:\u001b[0m\u001b[0;36m1\u001b[0m\u001b[0;34m]\u001b[0m\u001b[0;34m==\u001b[0m\u001b[0mx\u001b[0m\u001b[0;34m[\u001b[0m\u001b[0;36m1\u001b[0m\u001b[0;34m:\u001b[0m\u001b[0;36m2\u001b[0m\u001b[0;34m]\u001b[0m \u001b[0;32mor\u001b[0m \u001b[0mx\u001b[0m\u001b[0;34m[\u001b[0m\u001b[0;36m0\u001b[0m\u001b[0;34m:\u001b[0m\u001b[0;36m1\u001b[0m\u001b[0;34m]\u001b[0m\u001b[0;34m!=\u001b[0m\u001b[0;34m\" \"\u001b[0m\u001b[0;34m:\u001b[0m\u001b[0;34m\u001b[0m\u001b[0;34m\u001b[0m\u001b[0m\n\u001b[1;32m      7\u001b[0m   \u001b[0mprint\u001b[0m\u001b[0;34m(\u001b[0m\u001b[0;34m\"Solo se puede una letra\"\u001b[0m\u001b[0;34m)\u001b[0m\u001b[0;34m\u001b[0m\u001b[0;34m\u001b[0m\u001b[0m\n",
            "\u001b[0;31mTypeError\u001b[0m: 'builtin_function_or_method' object is not subscriptable"
          ]
        }
      ]
    },
    {
      "cell_type": "code",
      "source": [
        "x=int(input(\"Deme un numero\"))\n",
        "if x<0:\n",
        "  R=x*-1;\n",
        "  print(R,\" Es el valor absuto de \", x)\n",
        "if x>0:\n",
        "  print(x,\" Es el valor absoluto de \",x)"
      ],
      "metadata": {
        "colab": {
          "base_uri": "https://localhost:8080/"
        },
        "id": "C5t7CxMzpcUM",
        "outputId": "dd0ed3a7-0098-41c4-8e5c-d2450d697f71"
      },
      "execution_count": 37,
      "outputs": [
        {
          "output_type": "stream",
          "name": "stdout",
          "text": [
            "Deme un numero7\n",
            "7  Es el valor absoluto de  7\n"
          ]
        }
      ]
    },
    {
      "cell_type": "code",
      "source": [
        "x=str(input(\"Por cual candidato desea votar?, Candidato A por el partido Alfa, Candidato B, por el partido Beta, Candidato C por el partido gamma\"))\n",
        "if x==\"A\":\n",
        "    print(\"Usted ha votado por el partido Alfa\")\n",
        "elif x==\"B\":\n",
        "    print(\"Usted ha votado por el partido Beta\")\n",
        "elif x==\"C\":\n",
        "    print(\"Usted ha votado por el partido gamma\")\n",
        "else:\n",
        "  print(\"La letra \",x,\" No es ningun candidato\")"
      ],
      "metadata": {
        "colab": {
          "base_uri": "https://localhost:8080/"
        },
        "id": "hr2wOii1qTCa",
        "outputId": "c7682588-f516-46cb-aed6-c7cf0e3a3d70"
      },
      "execution_count": 5,
      "outputs": [
        {
          "output_type": "stream",
          "name": "stdout",
          "text": [
            "Por cual candidato desea votar?, Candidato A por el partido Alfa, Candidato B, por el partido Beta, Candidato C por el partido gammaT\n",
            "La letra  T  No es ningun candidato\n"
          ]
        }
      ]
    },
    {
      "cell_type": "code",
      "source": [
        "x=int(input(\"Cuantas letras va a ser su palabra?\"))\n",
        "y=str(input(\"Ahora deme la palabra\"))\n",
        "if y[x]==y[x]:\n",
        "  print(\"Es palindromo\") \n",
        "y[:-2]"
      ],
      "metadata": {
        "colab": {
          "base_uri": "https://localhost:8080/",
          "height": 269
        },
        "id": "0AbGDZYsqSu9",
        "outputId": "db3ed328-f20d-42bb-9cf0-ee6a6d352e9b"
      },
      "execution_count": 25,
      "outputs": [
        {
          "name": "stdout",
          "output_type": "stream",
          "text": [
            "Cuantas cifras van a ser su numero?3\n",
            "Ahora deme el numerooso\n"
          ]
        },
        {
          "output_type": "error",
          "ename": "IndexError",
          "evalue": "ignored",
          "traceback": [
            "\u001b[0;31m---------------------------------------------------------------------------\u001b[0m",
            "\u001b[0;31mIndexError\u001b[0m                                Traceback (most recent call last)",
            "\u001b[0;32m<ipython-input-25-5787f815de03>\u001b[0m in \u001b[0;36m<module>\u001b[0;34m()\u001b[0m\n\u001b[1;32m      1\u001b[0m \u001b[0mx\u001b[0m\u001b[0;34m=\u001b[0m\u001b[0mint\u001b[0m\u001b[0;34m(\u001b[0m\u001b[0minput\u001b[0m\u001b[0;34m(\u001b[0m\u001b[0;34m\"Cuantas cifras van a ser su numero?\"\u001b[0m\u001b[0;34m)\u001b[0m\u001b[0;34m)\u001b[0m\u001b[0;34m\u001b[0m\u001b[0;34m\u001b[0m\u001b[0m\n\u001b[1;32m      2\u001b[0m \u001b[0my\u001b[0m\u001b[0;34m=\u001b[0m\u001b[0mstr\u001b[0m\u001b[0;34m(\u001b[0m\u001b[0minput\u001b[0m\u001b[0;34m(\u001b[0m\u001b[0;34m\"Ahora deme el numero\"\u001b[0m\u001b[0;34m)\u001b[0m\u001b[0;34m)\u001b[0m\u001b[0;34m\u001b[0m\u001b[0;34m\u001b[0m\u001b[0m\n\u001b[0;32m----> 3\u001b[0;31m \u001b[0;32mif\u001b[0m \u001b[0my\u001b[0m\u001b[0;34m[\u001b[0m\u001b[0mx\u001b[0m\u001b[0;34m]\u001b[0m\u001b[0;34m==\u001b[0m\u001b[0my\u001b[0m\u001b[0;34m[\u001b[0m\u001b[0mx\u001b[0m\u001b[0;34m]\u001b[0m\u001b[0;34m:\u001b[0m\u001b[0;34m\u001b[0m\u001b[0;34m\u001b[0m\u001b[0m\n\u001b[0m\u001b[1;32m      4\u001b[0m   \u001b[0mprint\u001b[0m\u001b[0;34m(\u001b[0m\u001b[0;34m\"Usted es maricon\"\u001b[0m\u001b[0;34m)\u001b[0m\u001b[0;34m\u001b[0m\u001b[0;34m\u001b[0m\u001b[0m\n\u001b[1;32m      5\u001b[0m \u001b[0my\u001b[0m\u001b[0;34m[\u001b[0m\u001b[0;34m:\u001b[0m\u001b[0;34m-\u001b[0m\u001b[0;36m2\u001b[0m\u001b[0;34m]\u001b[0m\u001b[0;34m\u001b[0m\u001b[0;34m\u001b[0m\u001b[0m\n",
            "\u001b[0;31mIndexError\u001b[0m: string index out of range"
          ]
        }
      ]
    }
  ]
}